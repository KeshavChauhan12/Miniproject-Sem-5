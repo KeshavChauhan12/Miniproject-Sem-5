{
  "nbformat": 4,
  "nbformat_minor": 0,
  "metadata": {
    "colab": {
      "name": "Recommender_System.ipynb",
      "provenance": [],
      "authorship_tag": "ABX9TyM341fSoPCiLV0Jh6f2z5y9",
      "include_colab_link": true
    },
    "kernelspec": {
      "name": "python3",
      "display_name": "Python 3"
    },
    "language_info": {
      "name": "python"
    }
  },
  "cells": [
    {
      "cell_type": "markdown",
      "metadata": {
        "id": "view-in-github",
        "colab_type": "text"
      },
      "source": [
        "<a href=\"https://colab.research.google.com/github/KeshavChauhan12/Miniproject-Sem-5/blob/main/Recommender_System.ipynb\" target=\"_parent\"><img src=\"https://colab.research.google.com/assets/colab-badge.svg\" alt=\"Open In Colab\"/></a>"
      ]
    },
    {
      "cell_type": "markdown",
      "metadata": {
        "id": "Y2IOgan8tG8i"
      },
      "source": [
        "Movie dataset"
      ]
    },
    {
      "cell_type": "code",
      "metadata": {
        "id": "FzkXJqTctKpA"
      },
      "source": [
        "users_feedback = {'Mohit':{'Satyamev Jayte':2.5,\n",
        "                           'Shershaah':3.5,\n",
        "                           'War':3.0,\n",
        "                           'Lakshay':3.5,\n",
        "                           'Commando':2.5,\n",
        "                           'MS Dhoni':3.0},\n",
        "                  'Palak':{'Satyamev Jayte':3.0,\n",
        "                           'Shershaah':3.5,\n",
        "                           'War':1.5,\n",
        "                           'Lakshay':5.0,\n",
        "                           'Commando':3.0,\n",
        "                           'MS Dhoni':3.5},\n",
        "                  'Smriti':{'Satyamev Jayte':2.5,\n",
        "                           'Shershaah':3.0,\n",
        "                           'Lakshay':3.5,\n",
        "                           'MS Dhoni':4.0},\n",
        "                  'Neha':{'Shershaah':3.5,\n",
        "                           'War':3.0,\n",
        "                           'Lakshay':4.0,\n",
        "                           'Commando':2.5,\n",
        "                           'MS Dhoni':4.5},\n",
        "                  'Piyush':{'Satyamev Jayte':3.0,\n",
        "                           'Shershaah':4.0,\n",
        "                           'War':2.0,\n",
        "                           'Lakshay':3.0,\n",
        "                           'Commando':2.0,\n",
        "                           'MS Dhoni':3.0},\n",
        "                  'Sachin':{'Satyamev Jayte':3.0,\n",
        "                           'Shershaah':4.0,\n",
        "                           'Lakshay':5.0,\n",
        "                           'Commando':3.5,\n",
        "                           'MS Dhoni':3.0},\n",
        "                  'Rahul':{'Shershaah':4.5,\n",
        "                           'Lakshay':4.0,\n",
        "                           'Commando':1.0}}"
      ],
      "execution_count": null,
      "outputs": []
    },
    {
      "cell_type": "code",
      "metadata": {
        "colab": {
          "base_uri": "https://localhost:8080/"
        },
        "id": "PCNROAINwY6_",
        "outputId": "bc6d9fe8-8fb8-450b-c1c2-b613344276de"
      },
      "source": [
        "users_feedback"
      ],
      "execution_count": null,
      "outputs": [
        {
          "output_type": "execute_result",
          "data": {
            "text/plain": [
              "{'Mohit': {'Commando': 2.5,\n",
              "  'Lakshay': 3.5,\n",
              "  'MS Dhoni': 3.0,\n",
              "  'Satyamev Jayte': 2.5,\n",
              "  'Shershaah': 3.5,\n",
              "  'War': 3.0},\n",
              " 'Neha': {'Commando': 2.5,\n",
              "  'Lakshay': 4.0,\n",
              "  'MS Dhoni': 4.5,\n",
              "  'Shershaah': 3.5,\n",
              "  'War': 3.0},\n",
              " 'Palak': {'Commando': 3.0,\n",
              "  'Lakshay': 5.0,\n",
              "  'MS Dhoni': 3.5,\n",
              "  'Satyamev Jayte': 3.0,\n",
              "  'Shershaah': 3.5,\n",
              "  'War': 1.5},\n",
              " 'Piyush': {'Commando': 2.0,\n",
              "  'Lakshay': 3.0,\n",
              "  'MS Dhoni': 3.0,\n",
              "  'Satyamev Jayte': 3.0,\n",
              "  'Shershaah': 4.0,\n",
              "  'War': 2.0},\n",
              " 'Rahul': {'Commando': 1.0, 'Lakshay': 4.0, 'Shershaah': 4.5},\n",
              " 'Sachin': {'Commando': 3.5,\n",
              "  'Lakshay': 5.0,\n",
              "  'MS Dhoni': 3.0,\n",
              "  'Satyamev Jayte': 3.0,\n",
              "  'Shershaah': 4.0},\n",
              " 'Smriti': {'Lakshay': 3.5,\n",
              "  'MS Dhoni': 4.0,\n",
              "  'Satyamev Jayte': 2.5,\n",
              "  'Shershaah': 3.0}}"
            ]
          },
          "metadata": {},
          "execution_count": 2
        }
      ]
    },
    {
      "cell_type": "code",
      "metadata": {
        "colab": {
          "base_uri": "https://localhost:8080/"
        },
        "id": "P0GrurS8wm5W",
        "outputId": "b652064e-76c4-44c0-cb56-fff13827bcb7"
      },
      "source": [
        "users_feedback['Mohit']"
      ],
      "execution_count": null,
      "outputs": [
        {
          "output_type": "execute_result",
          "data": {
            "text/plain": [
              "{'Commando': 2.5,\n",
              " 'Lakshay': 3.5,\n",
              " 'MS Dhoni': 3.0,\n",
              " 'Satyamev Jayte': 2.5,\n",
              " 'Shershaah': 3.5,\n",
              " 'War': 3.0}"
            ]
          },
          "metadata": {},
          "execution_count": 3
        }
      ]
    },
    {
      "cell_type": "code",
      "metadata": {
        "colab": {
          "base_uri": "https://localhost:8080/"
        },
        "id": "mfbaAv0AwtBx",
        "outputId": "cc09a69c-f9c5-4e17-e8bf-a118dcdbc858"
      },
      "source": [
        "users_feedback['Mohit']['Satyamev Jayte']"
      ],
      "execution_count": null,
      "outputs": [
        {
          "output_type": "execute_result",
          "data": {
            "text/plain": [
              "2.5"
            ]
          },
          "metadata": {},
          "execution_count": 4
        }
      ]
    },
    {
      "cell_type": "markdown",
      "metadata": {
        "id": "VXhkCx13FDuE"
      },
      "source": [
        "Euclidean Distance"
      ]
    },
    {
      "cell_type": "code",
      "metadata": {
        "id": "oH6akJ62FHp0"
      },
      "source": [
        "import math"
      ],
      "execution_count": 10,
      "outputs": []
    },
    {
      "cell_type": "code",
      "metadata": {
        "colab": {
          "base_uri": "https://localhost:8080/"
        },
        "id": "q5D9ck3RF1rA",
        "outputId": "d0721428-6398-4c57-bf2a-61390bc900f6"
      },
      "source": [
        "math.pow(3-3,2)"
      ],
      "execution_count": null,
      "outputs": [
        {
          "output_type": "execute_result",
          "data": {
            "text/plain": [
              "0.0"
            ]
          },
          "metadata": {},
          "execution_count": 3
        }
      ]
    },
    {
      "cell_type": "code",
      "metadata": {
        "colab": {
          "base_uri": "https://localhost:8080/"
        },
        "id": "li7jzF8CF5nF",
        "outputId": "a506bb1f-b02a-46a4-ede6-421419d2d386"
      },
      "source": [
        "math.pow(3.5-4,2)"
      ],
      "execution_count": null,
      "outputs": [
        {
          "output_type": "execute_result",
          "data": {
            "text/plain": [
              "0.25"
            ]
          },
          "metadata": {},
          "execution_count": 4
        }
      ]
    },
    {
      "cell_type": "code",
      "metadata": {
        "colab": {
          "base_uri": "https://localhost:8080/"
        },
        "id": "dXtv7TcTF9gQ",
        "outputId": "9075a461-c3b7-4acb-a52e-d06f86dbb0e3"
      },
      "source": [
        "math.pow(3-3,2)+math.pow(3.5-4,2)"
      ],
      "execution_count": null,
      "outputs": [
        {
          "output_type": "execute_result",
          "data": {
            "text/plain": [
              "0.25"
            ]
          },
          "metadata": {},
          "execution_count": 5
        }
      ]
    },
    {
      "cell_type": "code",
      "metadata": {
        "colab": {
          "base_uri": "https://localhost:8080/"
        },
        "id": "Siy4DmsnGFZX",
        "outputId": "0e38afde-8d3d-462a-f684-a82d5b939c2d"
      },
      "source": [
        "1/(1+math.sqrt(math.pow(3-3,2)+math.pow(3.5-4,2)))"
      ],
      "execution_count": null,
      "outputs": [
        {
          "output_type": "execute_result",
          "data": {
            "text/plain": [
              "0.6666666666666666"
            ]
          },
          "metadata": {},
          "execution_count": 6
        }
      ]
    },
    {
      "cell_type": "code",
      "metadata": {
        "id": "tJvJAcehHTRb"
      },
      "source": [
        "def Euclidean_distance(dataset,user1,user2):\n",
        "  similarity={}\n",
        "  for item in dataset[user1]:\n",
        "    #print(item)\n",
        "    if item in dataset[user2]:\n",
        "      #print(item)\n",
        "      similarity[item]=1\n",
        "\n",
        "  #print(similarity)\n",
        "  #print(len(similarity))\n",
        "\n",
        "  if len(similarity)==0:\n",
        "    return 0\n",
        "\n",
        "  #print([dataset[user1][item] for item in dataset[user1] if item in dataset[user2]])\n",
        "  #print([dataset[user2][item] for item in dataset[user2] if item in dataset[user1]])\n",
        "\n",
        "  sum_euclidean = sum([math.pow(dataset[user1][item]-dataset[user2][item],2) for item in dataset[user1] if item in dataset[user2]])\n",
        "  #print(sum_euclidean)\n",
        "\n",
        "  return 1/(1+math.sqrt(sum_euclidean))"
      ],
      "execution_count": 8,
      "outputs": []
    },
    {
      "cell_type": "code",
      "metadata": {
        "colab": {
          "base_uri": "https://localhost:8080/"
        },
        "id": "PfffT-eIIhGL",
        "outputId": "dba31b71-55bf-423c-df52-85e959f94a5b"
      },
      "source": [
        "Euclidean_distance(users_feedback,'Mohit','Rahul')"
      ],
      "execution_count": null,
      "outputs": [
        {
          "output_type": "execute_result",
          "data": {
            "text/plain": [
              "0.3483314773547883"
            ]
          },
          "metadata": {},
          "execution_count": 21
        }
      ]
    },
    {
      "cell_type": "markdown",
      "metadata": {
        "id": "6OLeXbEfRTHX"
      },
      "source": [
        "Similarity between users"
      ]
    },
    {
      "cell_type": "code",
      "metadata": {
        "id": "ZpMMkZBNRgJy"
      },
      "source": [
        "def get_similarities(dataset,user):\n",
        "  similarity = [(Euclidean_distance(dataset,user,other),other) for other in dataset if other!=user]\n",
        "  #print(similarity)\n",
        "  similarity.sort()\n",
        "  similarity.reverse()\n",
        "  return similarity"
      ],
      "execution_count": 13,
      "outputs": []
    },
    {
      "cell_type": "code",
      "metadata": {
        "colab": {
          "base_uri": "https://localhost:8080/"
        },
        "id": "bTjf9t8xTPSQ",
        "outputId": "109959a1-d656-4c9b-abc7-533c40ac19e5"
      },
      "source": [
        "get_similarities(users_feedback,'Mohit')"
      ],
      "execution_count": null,
      "outputs": [
        {
          "output_type": "execute_result",
          "data": {
            "text/plain": [
              "[(0.4721359549995794, 'Smriti'),\n",
              " (0.4142135623730951, 'Piyush'),\n",
              " (0.38742588672279304, 'Neha'),\n",
              " (0.3483314773547883, 'Rahul'),\n",
              " (0.3405424265831667, 'Sachin'),\n",
              " (0.30383243470068705, 'Palak')]"
            ]
          },
          "metadata": {},
          "execution_count": 55
        }
      ]
    },
    {
      "cell_type": "code",
      "metadata": {
        "colab": {
          "base_uri": "https://localhost:8080/"
        },
        "id": "Ixi6ZkeIUfnt",
        "outputId": "ed3ce01a-795f-476e-aac1-7be378bca1cf"
      },
      "source": [
        "get_similarities(users_feedback,'Rahul')"
      ],
      "execution_count": null,
      "outputs": [
        {
          "output_type": "execute_result",
          "data": {
            "text/plain": [
              "[(0.4, 'Piyush'),\n",
              " (0.38742588672279304, 'Smriti'),\n",
              " (0.3567891723253309, 'Neha'),\n",
              " (0.3483314773547883, 'Mohit'),\n",
              " (0.28989794855663564, 'Palak'),\n",
              " (0.2674788903885893, 'Sachin')]"
            ]
          },
          "metadata": {},
          "execution_count": 56
        }
      ]
    },
    {
      "cell_type": "markdown",
      "metadata": {
        "id": "Eb8dERlimSnf"
      },
      "source": [
        "Movie Recommendation"
      ]
    },
    {
      "cell_type": "code",
      "metadata": {
        "id": "0fOrdYnToMHa"
      },
      "source": [
        "def get_user_recommendation(dataset,user):\n",
        "  totals = {}\n",
        "  sum_similarity = {}\n",
        "  for other in dataset:\n",
        "    if other == user:\n",
        "      continue\n",
        "\n",
        "    #print('--------')  \n",
        "    #print(other)\n",
        "    similarity = Euclidean_distance(dataset,user,other)\n",
        "    #print(similarity)\n",
        "\n",
        "    if similarity == 0:\n",
        "      continue\n",
        "    for item in dataset[other]:\n",
        "      #print(item)\n",
        "      if item not in dataset[user]:\n",
        "        #print(item)\n",
        "        totals.setdefault(item,0)\n",
        "        #print(totals)\n",
        "        totals[item] += dataset[other][item]*similarity\n",
        "\n",
        "        sum_similarity.setdefault(item,0)\n",
        "        sum_similarity[item] += similarity\n",
        "\n",
        "  #print(totals)\n",
        "  #print(sum_similarity)\n",
        "\n",
        "  recommendations = [(total/sum_similarity[item],item) for item,total in totals.items()]\n",
        "  recommendations.sort()\n",
        "  recommendations.reverse()\n",
        "  return recommendations"
      ],
      "execution_count": 15,
      "outputs": []
    },
    {
      "cell_type": "code",
      "metadata": {
        "colab": {
          "base_uri": "https://localhost:8080/"
        },
        "id": "t5S40KcapNWx",
        "outputId": "19ee799c-44e2-426c-b96c-88900e8b57d6"
      },
      "source": [
        "get_user_recommendation(users_feedback,'Rahul')"
      ],
      "execution_count": null,
      "outputs": [
        {
          "output_type": "execute_result",
          "data": {
            "text/plain": [
              "[(3.5207797678329342, 'MS Dhoni'),\n",
              " (2.7827232588048805, 'Satyamev Jayte'),\n",
              " (2.4015514030492744, 'War')]"
            ]
          },
          "metadata": {},
          "execution_count": 43
        }
      ]
    },
    {
      "cell_type": "code",
      "metadata": {
        "colab": {
          "base_uri": "https://localhost:8080/"
        },
        "id": "DlZ_Z7zCv7YM",
        "outputId": "cf0cf53d-8b08-4d09-829e-8322aa429c11"
      },
      "source": [
        "get_user_recommendation(users_feedback,'Smriti')"
      ],
      "execution_count": null,
      "outputs": [
        {
          "output_type": "execute_result",
          "data": {
            "text/plain": [
              "[(2.468366941941361, 'War'), (2.390064768794305, 'Commando')]"
            ]
          },
          "metadata": {},
          "execution_count": 44
        }
      ]
    },
    {
      "cell_type": "code",
      "metadata": {
        "id": "crfbLTFGwRdJ"
      },
      "source": [
        "recommendations = get_user_recommendation(users_feedback,'Rahul')"
      ],
      "execution_count": null,
      "outputs": []
    },
    {
      "cell_type": "code",
      "metadata": {
        "colab": {
          "base_uri": "https://localhost:8080/"
        },
        "id": "czrlVSBwwkjo",
        "outputId": "4dec1b6d-d2c6-40bd-f001-d28fbb96f654"
      },
      "source": [
        "recommendations"
      ],
      "execution_count": null,
      "outputs": [
        {
          "output_type": "execute_result",
          "data": {
            "text/plain": [
              "[(3.5207797678329342, 'MS Dhoni'),\n",
              " (2.7827232588048805, 'Satyamev Jayte'),\n",
              " (2.4015514030492744, 'War')]"
            ]
          },
          "metadata": {},
          "execution_count": 48
        }
      ]
    },
    {
      "cell_type": "code",
      "metadata": {
        "id": "6eG_FOnjwnmX"
      },
      "source": [
        "def print_user_recommendation(recommendations,min_score):\n",
        "  for movie in recommendations:\n",
        "    #print(movie,movie[0],movie[1])\n",
        "    if movie[0] >= min_score:\n",
        "      print(movie[1])"
      ],
      "execution_count": 19,
      "outputs": []
    },
    {
      "cell_type": "code",
      "metadata": {
        "id": "jqgKGeflxc9N",
        "colab": {
          "base_uri": "https://localhost:8080/"
        },
        "outputId": "1a50d568-b763-4af0-99dc-3cbc361d8b9d"
      },
      "source": [
        "print_user_recommendation(recommendations,3)"
      ],
      "execution_count": null,
      "outputs": [
        {
          "output_type": "stream",
          "name": "stdout",
          "text": [
            "MS Dhoni\n"
          ]
        }
      ]
    },
    {
      "cell_type": "markdown",
      "metadata": {
        "id": "blJCCnzUsYQL"
      },
      "source": [
        "Similar Movies"
      ]
    },
    {
      "cell_type": "code",
      "metadata": {
        "id": "4e5B57uFsaqA"
      },
      "source": [
        "user_feedback_movies = {'Satyamev Jayte':{'Mohit':2.5,\n",
        "                                          'Palak':3.0,\n",
        "                                          'Smriti':2.5,\n",
        "                                          'Piyush':3.0,\n",
        "                                          'Sachin':3.0},\n",
        "                        'Shershaah':{'Mohit':3.5,\n",
        "                                          'Palak':3.5,\n",
        "                                          'Smriti':3.0,\n",
        "                                          'Neha':3.5,\n",
        "                                          'Piyush':4.0,\n",
        "                                          'Sachin':4.0,\n",
        "                                          'Rahul':4.5},\n",
        "                        'War':{'Mohit':3.0,\n",
        "                                          'Palak':1.5,\n",
        "                                          'Neha':3.0,\n",
        "                                          'Piyush':2.0},\n",
        "                        'Lakshay':{'Mohit':3.5,\n",
        "                                          'Palak':5.0,\n",
        "                                          'Smriti':3.5,\n",
        "                                          'Neha':4.0,\n",
        "                                          'Piyush':3.0,\n",
        "                                          'Sachin':5.0,\n",
        "                                          'Rahul':4.0},\n",
        "                        'Commando':{'Mohit':2.5,\n",
        "                                          'Palak':3.0,\n",
        "                                          'Neha':2.5,\n",
        "                                          'Piyush':2.0,\n",
        "                                          'Sachin':3.5,\n",
        "                                          'Rahul':1.0},\n",
        "                        'MS Dhoni':{'Mohit':3.0,\n",
        "                                          'Palak':3.5,\n",
        "                                          'Smriti':4.0,\n",
        "                                          'Neha':4.5,\n",
        "                                          'Piyush':3.0,\n",
        "                                          'Sachin':3.0}}"
      ],
      "execution_count": 3,
      "outputs": []
    },
    {
      "cell_type": "code",
      "metadata": {
        "colab": {
          "base_uri": "https://localhost:8080/"
        },
        "id": "XFYT6s9ewky7",
        "outputId": "b6478bc7-bb82-424c-c86c-ea58d434df17"
      },
      "source": [
        "user_feedback_movies"
      ],
      "execution_count": 5,
      "outputs": [
        {
          "output_type": "execute_result",
          "data": {
            "text/plain": [
              "{'Commando': {'Mohit': 2.5,\n",
              "  'Neha': 2.5,\n",
              "  'Palak': 3.0,\n",
              "  'Piyush': 2.0,\n",
              "  'Rahul': 1.0,\n",
              "  'Sachin': 3.5},\n",
              " 'Lakshay': {'Mohit': 3.5,\n",
              "  'Neha': 4.0,\n",
              "  'Palak': 5.0,\n",
              "  'Piyush': 3.0,\n",
              "  'Rahul': 4.0,\n",
              "  'Sachin': 5.0,\n",
              "  'Smriti': 3.5},\n",
              " 'MS Dhoni': {'Mohit': 3.0,\n",
              "  'Neha': 4.5,\n",
              "  'Palak': 3.5,\n",
              "  'Piyush': 3.0,\n",
              "  'Sachin': 3.0,\n",
              "  'Smriti': 4.0},\n",
              " 'Satyamev Jayte': {'Mohit': 2.5,\n",
              "  'Palak': 3.0,\n",
              "  'Piyush': 3.0,\n",
              "  'Sachin': 3.0,\n",
              "  'Smriti': 2.5},\n",
              " 'Shershaah': {'Mohit': 3.5,\n",
              "  'Neha': 3.5,\n",
              "  'Palak': 3.5,\n",
              "  'Piyush': 4.0,\n",
              "  'Rahul': 4.5,\n",
              "  'Sachin': 4.0,\n",
              "  'Smriti': 3.0},\n",
              " 'War': {'Mohit': 3.0, 'Neha': 3.0, 'Palak': 1.5, 'Piyush': 2.0}}"
            ]
          },
          "metadata": {},
          "execution_count": 5
        }
      ]
    },
    {
      "cell_type": "code",
      "metadata": {
        "colab": {
          "base_uri": "https://localhost:8080/"
        },
        "id": "UpHgt_n2w_-1",
        "outputId": "468a482d-e3ee-4f51-cc3a-7999553def7a"
      },
      "source": [
        "user_feedback_movies['MS Dhoni']"
      ],
      "execution_count": 6,
      "outputs": [
        {
          "output_type": "execute_result",
          "data": {
            "text/plain": [
              "{'Mohit': 3.0,\n",
              " 'Neha': 4.5,\n",
              " 'Palak': 3.5,\n",
              " 'Piyush': 3.0,\n",
              " 'Sachin': 3.0,\n",
              " 'Smriti': 4.0}"
            ]
          },
          "metadata": {},
          "execution_count": 6
        }
      ]
    },
    {
      "cell_type": "code",
      "metadata": {
        "colab": {
          "base_uri": "https://localhost:8080/"
        },
        "id": "w2aOcIA8xYKP",
        "outputId": "8f34a5a7-2f3e-4c0a-cdc9-0d1d5e66ddad"
      },
      "source": [
        "Euclidean_distance(user_feedback_movies,'Lakshay','Commando')"
      ],
      "execution_count": 11,
      "outputs": [
        {
          "output_type": "execute_result",
          "data": {
            "text/plain": [
              "0.18464218557642828"
            ]
          },
          "metadata": {},
          "execution_count": 11
        }
      ]
    },
    {
      "cell_type": "code",
      "metadata": {
        "colab": {
          "base_uri": "https://localhost:8080/"
        },
        "id": "H9qsjEr_xyW_",
        "outputId": "2a1172e1-7ba0-4149-821b-35c90c7f9987"
      },
      "source": [
        "get_similarities(user_feedback_movies,'Lakshay')"
      ],
      "execution_count": 14,
      "outputs": [
        {
          "output_type": "execute_result",
          "data": {
            "text/plain": [
              "[(0.3090169943749474, 'Shershaah'),\n",
              " (0.27429188517743175, 'MS Dhoni'),\n",
              " (0.2402530733520421, 'Satyamev Jayte'),\n",
              " (0.20799159651347807, 'War'),\n",
              " (0.18464218557642828, 'Commando')]"
            ]
          },
          "metadata": {},
          "execution_count": 14
        }
      ]
    },
    {
      "cell_type": "code",
      "metadata": {
        "colab": {
          "base_uri": "https://localhost:8080/"
        },
        "id": "pfjnoxYnyR-Z",
        "outputId": "e1ba238e-5b9f-4253-f82b-c2daf155965e"
      },
      "source": [
        "get_user_recommendation(user_feedback_movies,'Satyamev Jayte')"
      ],
      "execution_count": 16,
      "outputs": [
        {
          "output_type": "execute_result",
          "data": {
            "text/plain": [
              "[(3.4159791153437715, 'Neha'), (2.8288695093208878, 'Rahul')]"
            ]
          },
          "metadata": {},
          "execution_count": 16
        }
      ]
    },
    {
      "cell_type": "code",
      "metadata": {
        "colab": {
          "base_uri": "https://localhost:8080/"
        },
        "id": "quWtPruyyxwM",
        "outputId": "032687e3-200f-4649-ea07-a126a01d8cba"
      },
      "source": [
        "get_user_recommendation(user_feedback_movies,'Commando')"
      ],
      "execution_count": 17,
      "outputs": [
        {
          "output_type": "execute_result",
          "data": {
            "text/plain": [
              "[(3.132214478489187, 'Smriti')]"
            ]
          },
          "metadata": {},
          "execution_count": 17
        }
      ]
    },
    {
      "cell_type": "code",
      "metadata": {
        "colab": {
          "base_uri": "https://localhost:8080/"
        },
        "id": "QRqLnXRlzDQi",
        "outputId": "64068af3-09ea-40cf-dc68-0aa7ad7df9b4"
      },
      "source": [
        "recommendations = get_user_recommendation(user_feedback_movies,'War')\n",
        "print_user_recommendation(recommendations,3)"
      ],
      "execution_count": 20,
      "outputs": [
        {
          "output_type": "stream",
          "name": "stdout",
          "text": [
            "Sachin\n",
            "Smriti\n"
          ]
        }
      ]
    }
  ]
}