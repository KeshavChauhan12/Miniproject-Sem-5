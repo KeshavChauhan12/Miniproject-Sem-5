{
  "nbformat": 4,
  "nbformat_minor": 0,
  "metadata": {
    "colab": {
      "name": "Recommender_System.ipynb",
      "provenance": [],
      "authorship_tag": "ABX9TyNQ3ol/y5LRGHw10hFNDryr",
      "include_colab_link": true
    },
    "kernelspec": {
      "name": "python3",
      "display_name": "Python 3"
    },
    "language_info": {
      "name": "python"
    }
  },
  "cells": [
    {
      "cell_type": "markdown",
      "metadata": {
        "id": "view-in-github",
        "colab_type": "text"
      },
      "source": [
        "<a href=\"https://colab.research.google.com/github/KeshavChauhan12/Miniproject-Sem-5/blob/main/Recommender_System.ipynb\" target=\"_parent\"><img src=\"https://colab.research.google.com/assets/colab-badge.svg\" alt=\"Open In Colab\"/></a>"
      ]
    },
    {
      "cell_type": "markdown",
      "metadata": {
        "id": "Y2IOgan8tG8i"
      },
      "source": [
        "Movie dataset"
      ]
    },
    {
      "cell_type": "code",
      "metadata": {
        "id": "FzkXJqTctKpA"
      },
      "source": [
        "users_feedback = {'Mohit':{'Satyamev Jayte':2.5,\n",
        "                           'Shershaah':3.5,\n",
        "                           'War':3.0,\n",
        "                           'Lakshay':3.5,\n",
        "                           'Commando':2.5,\n",
        "                           'MS Dhoni':3.0},\n",
        "                  'Palak':{'Satyamev Jayte':3.0,\n",
        "                           'Shershaah':3.5,\n",
        "                           'War':1.5,\n",
        "                           'Lakshay':5.0,\n",
        "                           'Commando':3.0,\n",
        "                           'MS Dhoni':3.5},\n",
        "                  'Smriti':{'Satyamev Jayte':2.5,\n",
        "                           'Shershaah':3.0,\n",
        "                           'Lakshay':3.5,\n",
        "                           'MS Dhoni':4.0},\n",
        "                  'Neha':{'Shershaah':3.5,\n",
        "                           'War':3.0,\n",
        "                           'Lakshay':4.0,\n",
        "                           'Commando':2.5,\n",
        "                           'MS Dhoni':4.5},\n",
        "                  'Piyush':{'Satyamev Jayte':3.0,\n",
        "                           'Shershaah':4.0,\n",
        "                           'War':2.0,\n",
        "                           'Lakshay':3.0,\n",
        "                           'Commando':2.0,\n",
        "                           'MS Dhoni':3.0},\n",
        "                  'Sachin':{'Satyamev Jayte':3.0,\n",
        "                           'Shershaah':4.0,\n",
        "                           'Lakshay':5.0,\n",
        "                           'Commando':3.5,\n",
        "                           'MS Dhoni':3.0},\n",
        "                  'Rahul':{'Shershaah':4.5,\n",
        "                           'Lakshay':4.0,\n",
        "                           'Commando':1.0}}"
      ],
      "execution_count": 45,
      "outputs": []
    },
    {
      "cell_type": "code",
      "metadata": {
        "colab": {
          "base_uri": "https://localhost:8080/"
        },
        "id": "PCNROAINwY6_",
        "outputId": "bc6d9fe8-8fb8-450b-c1c2-b613344276de"
      },
      "source": [
        "users_feedback"
      ],
      "execution_count": null,
      "outputs": [
        {
          "output_type": "execute_result",
          "data": {
            "text/plain": [
              "{'Mohit': {'Commando': 2.5,\n",
              "  'Lakshay': 3.5,\n",
              "  'MS Dhoni': 3.0,\n",
              "  'Satyamev Jayte': 2.5,\n",
              "  'Shershaah': 3.5,\n",
              "  'War': 3.0},\n",
              " 'Neha': {'Commando': 2.5,\n",
              "  'Lakshay': 4.0,\n",
              "  'MS Dhoni': 4.5,\n",
              "  'Shershaah': 3.5,\n",
              "  'War': 3.0},\n",
              " 'Palak': {'Commando': 3.0,\n",
              "  'Lakshay': 5.0,\n",
              "  'MS Dhoni': 3.5,\n",
              "  'Satyamev Jayte': 3.0,\n",
              "  'Shershaah': 3.5,\n",
              "  'War': 1.5},\n",
              " 'Piyush': {'Commando': 2.0,\n",
              "  'Lakshay': 3.0,\n",
              "  'MS Dhoni': 3.0,\n",
              "  'Satyamev Jayte': 3.0,\n",
              "  'Shershaah': 4.0,\n",
              "  'War': 2.0},\n",
              " 'Rahul': {'Commando': 1.0, 'Lakshay': 4.0, 'Shershaah': 4.5},\n",
              " 'Sachin': {'Commando': 3.5,\n",
              "  'Lakshay': 5.0,\n",
              "  'MS Dhoni': 3.0,\n",
              "  'Satyamev Jayte': 3.0,\n",
              "  'Shershaah': 4.0},\n",
              " 'Smriti': {'Lakshay': 3.5,\n",
              "  'MS Dhoni': 4.0,\n",
              "  'Satyamev Jayte': 2.5,\n",
              "  'Shershaah': 3.0}}"
            ]
          },
          "metadata": {},
          "execution_count": 2
        }
      ]
    },
    {
      "cell_type": "code",
      "metadata": {
        "colab": {
          "base_uri": "https://localhost:8080/"
        },
        "id": "P0GrurS8wm5W",
        "outputId": "b652064e-76c4-44c0-cb56-fff13827bcb7"
      },
      "source": [
        "users_feedback['Mohit']"
      ],
      "execution_count": null,
      "outputs": [
        {
          "output_type": "execute_result",
          "data": {
            "text/plain": [
              "{'Commando': 2.5,\n",
              " 'Lakshay': 3.5,\n",
              " 'MS Dhoni': 3.0,\n",
              " 'Satyamev Jayte': 2.5,\n",
              " 'Shershaah': 3.5,\n",
              " 'War': 3.0}"
            ]
          },
          "metadata": {},
          "execution_count": 3
        }
      ]
    },
    {
      "cell_type": "code",
      "metadata": {
        "colab": {
          "base_uri": "https://localhost:8080/"
        },
        "id": "mfbaAv0AwtBx",
        "outputId": "cc09a69c-f9c5-4e17-e8bf-a118dcdbc858"
      },
      "source": [
        "users_feedback['Mohit']['Satyamev Jayte']"
      ],
      "execution_count": null,
      "outputs": [
        {
          "output_type": "execute_result",
          "data": {
            "text/plain": [
              "2.5"
            ]
          },
          "metadata": {},
          "execution_count": 4
        }
      ]
    },
    {
      "cell_type": "markdown",
      "metadata": {
        "id": "VXhkCx13FDuE"
      },
      "source": [
        "Euclidean Distance"
      ]
    },
    {
      "cell_type": "code",
      "metadata": {
        "id": "oH6akJ62FHp0"
      },
      "source": [
        "import math"
      ],
      "execution_count": 1,
      "outputs": []
    },
    {
      "cell_type": "code",
      "metadata": {
        "colab": {
          "base_uri": "https://localhost:8080/"
        },
        "id": "q5D9ck3RF1rA",
        "outputId": "d0721428-6398-4c57-bf2a-61390bc900f6"
      },
      "source": [
        "math.pow(3-3,2)"
      ],
      "execution_count": 3,
      "outputs": [
        {
          "output_type": "execute_result",
          "data": {
            "text/plain": [
              "0.0"
            ]
          },
          "metadata": {},
          "execution_count": 3
        }
      ]
    },
    {
      "cell_type": "code",
      "metadata": {
        "colab": {
          "base_uri": "https://localhost:8080/"
        },
        "id": "li7jzF8CF5nF",
        "outputId": "a506bb1f-b02a-46a4-ede6-421419d2d386"
      },
      "source": [
        "math.pow(3.5-4,2)"
      ],
      "execution_count": 4,
      "outputs": [
        {
          "output_type": "execute_result",
          "data": {
            "text/plain": [
              "0.25"
            ]
          },
          "metadata": {},
          "execution_count": 4
        }
      ]
    },
    {
      "cell_type": "code",
      "metadata": {
        "colab": {
          "base_uri": "https://localhost:8080/"
        },
        "id": "dXtv7TcTF9gQ",
        "outputId": "9075a461-c3b7-4acb-a52e-d06f86dbb0e3"
      },
      "source": [
        "math.pow(3-3,2)+math.pow(3.5-4,2)"
      ],
      "execution_count": 5,
      "outputs": [
        {
          "output_type": "execute_result",
          "data": {
            "text/plain": [
              "0.25"
            ]
          },
          "metadata": {},
          "execution_count": 5
        }
      ]
    },
    {
      "cell_type": "code",
      "metadata": {
        "colab": {
          "base_uri": "https://localhost:8080/"
        },
        "id": "Siy4DmsnGFZX",
        "outputId": "0e38afde-8d3d-462a-f684-a82d5b939c2d"
      },
      "source": [
        "1/(1+math.sqrt(math.pow(3-3,2)+math.pow(3.5-4,2)))"
      ],
      "execution_count": 6,
      "outputs": [
        {
          "output_type": "execute_result",
          "data": {
            "text/plain": [
              "0.6666666666666666"
            ]
          },
          "metadata": {},
          "execution_count": 6
        }
      ]
    },
    {
      "cell_type": "code",
      "metadata": {
        "id": "tJvJAcehHTRb"
      },
      "source": [
        "def Euclidean_distance(dataset,user1,user2):\n",
        "  similarity={}\n",
        "  for item in dataset[user1]:\n",
        "    #print(item)\n",
        "    if item in dataset[user2]:\n",
        "      #print(item)\n",
        "      similarity[item]=1\n",
        "\n",
        "  #print(similarity)\n",
        "  #print(len(similarity))\n",
        "\n",
        "  if len(similarity)==0:\n",
        "    return 0\n",
        "\n",
        "  #print([dataset[user1][item] for item in dataset[user1] if item in dataset[user2]])\n",
        "  #print([dataset[user2][item] for item in dataset[user2] if item in dataset[user1]])\n",
        "\n",
        "  sum_euclidean = sum([math.pow(dataset[user1][item]-dataset[user2][item],2) for item in dataset[user1] if item in dataset[user2]])\n",
        "  #print(sum_euclidean)\n",
        "\n",
        "  return 1/(1+math.sqrt(sum_euclidean))"
      ],
      "execution_count": 46,
      "outputs": []
    },
    {
      "cell_type": "code",
      "metadata": {
        "colab": {
          "base_uri": "https://localhost:8080/"
        },
        "id": "PfffT-eIIhGL",
        "outputId": "9a6b837e-6c1c-47a9-c1c4-441ec4a99d6c"
      },
      "source": [
        "Euclidean_distance(users_feedback,'Mohit','Rahul')"
      ],
      "execution_count": 48,
      "outputs": [
        {
          "output_type": "execute_result",
          "data": {
            "text/plain": [
              "0.3483314773547883"
            ]
          },
          "metadata": {},
          "execution_count": 48
        }
      ]
    },
    {
      "cell_type": "markdown",
      "metadata": {
        "id": "6OLeXbEfRTHX"
      },
      "source": [
        "Similarity between users"
      ]
    },
    {
      "cell_type": "code",
      "metadata": {
        "id": "ZpMMkZBNRgJy"
      },
      "source": [
        "def get_similarities(dataset,user):\n",
        "  similarity = [(Euclidean_distance(dataset,user,other),other) for other in dataset if other!=user]\n",
        "  #print(similarity)\n",
        "  similarity.sort()\n",
        "  similarity.reverse()\n",
        "  return similarity"
      ],
      "execution_count": 54,
      "outputs": []
    },
    {
      "cell_type": "code",
      "metadata": {
        "colab": {
          "base_uri": "https://localhost:8080/"
        },
        "id": "bTjf9t8xTPSQ",
        "outputId": "109959a1-d656-4c9b-abc7-533c40ac19e5"
      },
      "source": [
        "get_similarities(users_feedback,'Mohit')"
      ],
      "execution_count": 55,
      "outputs": [
        {
          "output_type": "execute_result",
          "data": {
            "text/plain": [
              "[(0.4721359549995794, 'Smriti'),\n",
              " (0.4142135623730951, 'Piyush'),\n",
              " (0.38742588672279304, 'Neha'),\n",
              " (0.3483314773547883, 'Rahul'),\n",
              " (0.3405424265831667, 'Sachin'),\n",
              " (0.30383243470068705, 'Palak')]"
            ]
          },
          "metadata": {},
          "execution_count": 55
        }
      ]
    },
    {
      "cell_type": "code",
      "metadata": {
        "colab": {
          "base_uri": "https://localhost:8080/"
        },
        "id": "Ixi6ZkeIUfnt",
        "outputId": "ed3ce01a-795f-476e-aac1-7be378bca1cf"
      },
      "source": [
        "get_similarities(users_feedback,'Rahul')"
      ],
      "execution_count": 56,
      "outputs": [
        {
          "output_type": "execute_result",
          "data": {
            "text/plain": [
              "[(0.4, 'Piyush'),\n",
              " (0.38742588672279304, 'Smriti'),\n",
              " (0.3567891723253309, 'Neha'),\n",
              " (0.3483314773547883, 'Mohit'),\n",
              " (0.28989794855663564, 'Palak'),\n",
              " (0.2674788903885893, 'Sachin')]"
            ]
          },
          "metadata": {},
          "execution_count": 56
        }
      ]
    }
  ]
}